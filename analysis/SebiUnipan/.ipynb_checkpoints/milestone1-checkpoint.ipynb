{
 "cells": [
  {
   "cell_type": "code",
   "execution_count": 2,
   "metadata": {},
   "outputs": [
    {
     "name": "stdout",
     "output_type": "stream",
     "text": [
      "  Age, Workclass, FinalWeight, Education, Education-num, Marital Status, Occupation, Relationship, Race, Sex, Captial-gain, Capital loss, Hours-per-week, Native Country\n",
      "0  39, State-gov, 77516, Bachelors, 13, Never-mar...                                                                                                                    \n",
      "1  50, Self-emp-not-inc, 83311, Bachelors, 13, Ma...                                                                                                                    \n",
      "2  38, Private, 215646, HS-grad, 9, Divorced, Han...                                                                                                                    \n",
      "3  53, Private, 234721, 11th, 7, Married-civ-spou...                                                                                                                    \n",
      "4  28, Private, 338409, Bachelors, 13, Married-ci...                                                                                                                    \n"
     ]
    }
   ],
   "source": [
    "import pandas as pd\n",
    "\n",
    "df = pd.read_csv(\"data/raw/adult.csv\")\n",
    "print(df.head())"
   ]
  },
  {
   "cell_type": "code",
   "execution_count": null,
   "metadata": {},
   "outputs": [],
   "source": []
  },
  {
   "cell_type": "code",
   "execution_count": null,
   "metadata": {},
   "outputs": [],
   "source": []
  }
 ],
 "metadata": {
  "kernelspec": {
   "display_name": "Python 3",
   "language": "python",
   "name": "python3"
  },
  "language_info": {
   "codemirror_mode": {
    "name": "ipython",
    "version": 3
   },
   "file_extension": ".py",
   "mimetype": "text/x-python",
   "name": "python",
   "nbconvert_exporter": "python",
   "pygments_lexer": "ipython3",
   "version": "3.8.3"
  }
 },
 "nbformat": 4,
 "nbformat_minor": 4
}
