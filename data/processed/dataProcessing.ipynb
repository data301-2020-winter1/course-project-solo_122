{
 "cells": [
  {
   "cell_type": "code",
   "execution_count": 29,
   "metadata": {},
   "outputs": [],
   "source": [
    "import pandas as pd\n",
    "import numpy as np\n",
    "\n",
    "df = pd.read_csv('default.csv')"
   ]
  },
  {
   "cell_type": "code",
   "execution_count": 9,
   "metadata": {},
   "outputs": [],
   "source": [
    "ageEdu = df.loc[:,['Age', 'Education']]\n",
    "ageEdu.to_csv('ageEdu.csv', index = False)"
   ]
  },
  {
   "cell_type": "code",
   "execution_count": 13,
   "metadata": {},
   "outputs": [],
   "source": [
    "ageEarn = df.loc[:,['Age','Yearly Income']]\n",
    "ageEarnAbove50k = ageEarn.loc[lambda x: x['Yearly Income'] == '>50K']\n",
    "ageEarnAbove50k.to_csv('ageEarnAbove50k.csv', index = False)"
   ]
  },
  {
   "cell_type": "code",
   "execution_count": 12,
   "metadata": {},
   "outputs": [],
   "source": [
    "ageEarnBelow50k = ageEarn.loc[lambda x: x['Yearly Income'] == '<=50K']\n",
    "ageEarnBelow50k.to_csv('ageEarnBelow50k.csv', index = False)"
   ]
  },
  {
   "cell_type": "code",
   "execution_count": 15,
   "metadata": {},
   "outputs": [],
   "source": [
    "eduWage = df.loc[:,['Yearly Income', 'Education']]\n",
    "eduWageAbove50k = eduWage.loc[lambda x: x['Yearly Income'] == '>50K']\n",
    "eduWageAbove50k.to_csv('eduWageAbove50k.csv', index = False)"
   ]
  },
  {
   "cell_type": "code",
   "execution_count": 18,
   "metadata": {},
   "outputs": [],
   "source": [
    "eduWageBelow50k = eduWage.loc[lambda x: x['Yearly Income'] == '<=50K']\n",
    "eduWageBelow50k.to_csv('eduWageBelow50k.csv', index = False)"
   ]
  },
  {
   "cell_type": "code",
   "execution_count": 23,
   "metadata": {},
   "outputs": [],
   "source": [
    "wageOc = df.loc[:,['Occupation', 'Yearly Income']]\n",
    "wageOcAbove50k = wageOc.loc[lambda x: x['Yearly Income'] == '>50K']\n",
    "wageOcAbove50k.to_csv('wageOcAbove50k.csv', index = False)"
   ]
  },
  {
   "cell_type": "code",
   "execution_count": 24,
   "metadata": {},
   "outputs": [],
   "source": [
    "wageOcBelow50k = wageOc.loc[lambda x: x['Yearly Income'] == '<=50K']\n",
    "wageOcBelow50k.to_csv('wageOcBelow50k.csv', index = False)"
   ]
  },
  {
   "cell_type": "code",
   "execution_count": 25,
   "metadata": {},
   "outputs": [],
   "source": [
    "occupations = df.loc[:,['Occupation']]\n",
    "occupations.to_csv('occupations.csv', index = False)"
   ]
  },
  {
   "cell_type": "code",
   "execution_count": 26,
   "metadata": {},
   "outputs": [],
   "source": [
    "earnSex = df.loc[:,['Sex', 'Yearly Income']]\n",
    "earnSexAbove50k = earnSex.loc[lambda x: x['Yearly Income'] == '>50K']\n",
    "earnSexAbove50k.to_csv('earnSexAbove50k.csv',index = False)"
   ]
  },
  {
   "cell_type": "code",
   "execution_count": 27,
   "metadata": {},
   "outputs": [],
   "source": [
    "earnSexBelow50k = earnSex.loc[lambda x: x['Yearly Income'] == '<=50K']\n",
    "earnSexBelow50k.to_csv('earnSexBelow50k.csv',index = False)"
   ]
  },
  {
   "cell_type": "code",
   "execution_count": 30,
   "metadata": {},
   "outputs": [],
   "source": [
    "earnMar = df.loc[:,['Yearly Income', 'Marital Status']]\n",
    "earnMarAbove50k = earnMar.loc[lambda x: x['Yearly Income'] == '>50K']\n",
    "earnMarAbove50k.to_csv('earnMarAbove50k.csv',index = False)"
   ]
  },
  {
   "cell_type": "code",
   "execution_count": 31,
   "metadata": {},
   "outputs": [],
   "source": [
    "earnMarBelow50k = earnMar.loc[lambda x: x['Yearly Income'] == '<=50K']\n",
    "earnMarBelow50k.to_csv('earnMarBelow50k.csv',index = False)"
   ]
  },
  {
   "cell_type": "code",
   "execution_count": 32,
   "metadata": {},
   "outputs": [],
   "source": [
    "earnRace = df.loc[:,['Yearly Income', 'Race']]\n",
    "earnRaceAbove50k = df.loc[lambda x:x['Yearly Income'] == '>50K']\n",
    "earnRaceAbove50k.to_csv('earnRaceAbove50k.csv',index = False)"
   ]
  },
  {
   "cell_type": "code",
   "execution_count": 33,
   "metadata": {},
   "outputs": [],
   "source": [
    "earnRaceBelow50k = df.loc[lambda x:x['Yearly Income'] == '<=50K']\n",
    "earnRaceBelow50k.to_csv('earnRaceBelow50k.csv',index = False)"
   ]
  },
  {
   "cell_type": "code",
   "execution_count": null,
   "metadata": {},
   "outputs": [],
   "source": []
  }
 ],
 "metadata": {
  "kernelspec": {
   "display_name": "Python 3",
   "language": "python",
   "name": "python3"
  },
  "language_info": {
   "codemirror_mode": {
    "name": "ipython",
    "version": 3
   },
   "file_extension": ".py",
   "mimetype": "text/x-python",
   "name": "python",
   "nbconvert_exporter": "python",
   "pygments_lexer": "ipython3",
   "version": "3.8.3"
  }
 },
 "nbformat": 4,
 "nbformat_minor": 4
}
